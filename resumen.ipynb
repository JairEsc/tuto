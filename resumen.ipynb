{
  "nbformat": 4,
  "nbformat_minor": 0,
  "metadata": {
    "colab": {
      "name": "Untitled99.ipynb",
      "provenance": [],
      "authorship_tag": "ABX9TyMWJKtqVxbnjity25PMjHjn",
      "include_colab_link": true
    },
    "kernelspec": {
      "name": "python3",
      "display_name": "Python 3"
    },
    "language_info": {
      "name": "python"
    }
  },
  "cells": [
    {
      "cell_type": "markdown",
      "metadata": {
        "id": "view-in-github",
        "colab_type": "text"
      },
      "source": [
        "<a href=\"https://colab.research.google.com/github/JairEsc/tuto/blob/master/resumen.ipynb\" target=\"_parent\"><img src=\"https://colab.research.google.com/assets/colab-badge.svg\" alt=\"Open In Colab\"/></a>"
      ]
    },
    {
      "cell_type": "code",
      "execution_count": 1,
      "metadata": {
        "id": "ulTo0Nhc2VsM"
      },
      "outputs": [],
      "source": [
        "# importing libraries\n",
        "from bs4 import BeautifulSoup as BS\n",
        "import requests\n",
        "# method to get the price of bit coin\n",
        "def get_price(url):\n",
        "    # getting the request from url \n",
        "    data = requests.get(url)\n",
        "    # converting the text \n",
        "  \n",
        "    # finding metha info for the current price\n",
        "      \n",
        "    # returning the price\n",
        "    return data\n",
        "   \n",
        "# url of the bit coin price\n"
      ]
    },
    {
      "cell_type": "code",
      "source": [
        "import numpy as np\n",
        "import pandas\n",
        "import matplotlib.pyplot as plt"
      ],
      "metadata": {
        "id": "QFqXqsH75utd"
      },
      "execution_count": 2,
      "outputs": []
    },
    {
      "cell_type": "code",
      "source": [
        "resumen=pandas.read_excel(\"Resumen.xlsx\")"
      ],
      "metadata": {
        "id": "8PSfzGPu52Ww"
      },
      "execution_count": 33,
      "outputs": []
    },
    {
      "cell_type": "code",
      "source": [
        "crypto=resumen['Crypto']\n",
        "total=resumen['Total']\n",
        "resumen=resumen[0:11]\n",
        "resumen['nuevo']=np.zeros(len(crypto))\n",
        "print(resumen)"
      ],
      "metadata": {
        "id": "tPbG-KzN52NQ",
        "outputId": "08ef59a8-fd3b-428e-be95-b72839892b0d",
        "colab": {
          "base_uri": "https://localhost:8080/"
        }
      },
      "execution_count": 41,
      "outputs": [
        {
          "output_type": "stream",
          "name": "stdout",
          "text": [
            "          Crypto     Bitso     Kraken     Binance   Algo    Yoroi       Total  \\\n",
            "0        bitcoin  0.000800    0.00535    0.001306    NaN      NaN    0.007456   \n",
            "1       ethereum  0.008173    0.09780         NaN    NaN      NaN    0.105973   \n",
            "2      chainlink       NaN        NaN    3.449489    NaN      NaN    3.449489   \n",
            "3         chiliz       NaN  579.00000  100.205570    NaN      NaN  679.205570   \n",
            "4   decentraland       NaN        NaN    0.077650    NaN      NaN    0.077650   \n",
            "5         tether       NaN        NaN         NaN    NaN      NaN    0.000000   \n",
            "6         ripple       NaN        NaN         NaN    NaN      NaN    0.000000   \n",
            "7       algorand       NaN        NaN         NaN  393.0      NaN  393.000000   \n",
            "8        cardano       NaN        NaN         NaN    NaN  25.2025   25.202500   \n",
            "9    The-sandbox  0.725260        NaN         NaN    NaN      NaN    0.725260   \n",
            "10      polkadot       NaN    7.97000         NaN    NaN      NaN    7.970000   \n",
            "\n",
            "    Precio       Fecha  -MXN   MXN  nuevo  \n",
            "0      NaN  13-11-2021  1000  1000    0.0  \n",
            "1      NaN  23-11-2021   500  1500    0.0  \n",
            "2      NaN  05-12-2021   100  1600    0.0  \n",
            "3      NaN  09-12-2021   100  1700    0.0  \n",
            "4      NaN  10-12-2021   300  2000    0.0  \n",
            "5      NaN  17-12-2021   300  2300    0.0  \n",
            "6      NaN  29-12-2021   700  3000    0.0  \n",
            "7      NaN  05-01-2022   340  3340    0.0  \n",
            "8      NaN  06-01-2022   250  3590    0.0  \n",
            "9      NaN  24-01-2022   130  3720    0.0  \n",
            "10     NaN  02-02-2022   440  4160    0.0  \n"
          ]
        }
      ]
    },
    {
      "cell_type": "code",
      "source": [
        "import json\n",
        "for i in range(11):\n",
        "    url='https://api.coingecko.com/api/v3/simple/price?ids='+crypto[i]+'&vs_currencies=usd'\n",
        "    print(get_price(url).text)\n",
        "    resumen['nuevo'][i]=json.loads(get_price(url).text).get(crypto[i])['usd']\n",
        "    resumen['Precio'][i]=resumen['nuevo'][i]*resumen['Total'][i]*19.84"
      ],
      "metadata": {
        "colab": {
          "base_uri": "https://localhost:8080/",
          "height": 564
        },
        "id": "lPj0oqbr6o16",
        "outputId": "c7410167-4616-4b4e-a371-05c171379d42"
      },
      "execution_count": 45,
      "outputs": [
        {
          "output_type": "stream",
          "name": "stdout",
          "text": [
            "{\"bitcoin\":{\"usd\":19178.15}}\n",
            "{\"ethereum\":{\"usd\":1056.98}}\n"
          ]
        },
        {
          "output_type": "stream",
          "name": "stderr",
          "text": [
            "/usr/local/lib/python3.7/dist-packages/ipykernel_launcher.py:5: SettingWithCopyWarning: \n",
            "A value is trying to be set on a copy of a slice from a DataFrame\n",
            "\n",
            "See the caveats in the documentation: https://pandas.pydata.org/pandas-docs/stable/user_guide/indexing.html#returning-a-view-versus-a-copy\n",
            "  \"\"\"\n",
            "/usr/local/lib/python3.7/dist-packages/ipykernel_launcher.py:6: SettingWithCopyWarning: \n",
            "A value is trying to be set on a copy of a slice from a DataFrame\n",
            "\n",
            "See the caveats in the documentation: https://pandas.pydata.org/pandas-docs/stable/user_guide/indexing.html#returning-a-view-versus-a-copy\n",
            "  \n"
          ]
        },
        {
          "output_type": "stream",
          "name": "stdout",
          "text": [
            "{\"chainlink\":{\"usd\":6.13}}\n",
            "{\"chiliz\":{\"usd\":0.098996}}\n",
            "{\"decentraland\":{\"usd\":0.838738}}\n",
            "{\"tether\":{\"usd\":1.001}}\n",
            "{\"ripple\":{\"usd\":0.318876}}\n",
            "{\"algorand\":{\"usd\":0.310487}}\n",
            "{\"cardano\":{\"usd\":0.451559}}\n",
            "{\"the-sandbox\":{\"usd\":1.069}}\n"
          ]
        },
        {
          "output_type": "error",
          "ename": "TypeError",
          "evalue": "ignored",
          "traceback": [
            "\u001b[0;31m---------------------------------------------------------------------------\u001b[0m",
            "\u001b[0;31mTypeError\u001b[0m                                 Traceback (most recent call last)",
            "\u001b[0;32m<ipython-input-45-23e61a9a6990>\u001b[0m in \u001b[0;36m<module>\u001b[0;34m()\u001b[0m\n\u001b[1;32m      3\u001b[0m     \u001b[0murl\u001b[0m\u001b[0;34m=\u001b[0m\u001b[0;34m'https://api.coingecko.com/api/v3/simple/price?ids='\u001b[0m\u001b[0;34m+\u001b[0m\u001b[0mcrypto\u001b[0m\u001b[0;34m[\u001b[0m\u001b[0mi\u001b[0m\u001b[0;34m]\u001b[0m\u001b[0;34m+\u001b[0m\u001b[0;34m'&vs_currencies=usd'\u001b[0m\u001b[0;34m\u001b[0m\u001b[0;34m\u001b[0m\u001b[0m\n\u001b[1;32m      4\u001b[0m     \u001b[0mprint\u001b[0m\u001b[0;34m(\u001b[0m\u001b[0mget_price\u001b[0m\u001b[0;34m(\u001b[0m\u001b[0murl\u001b[0m\u001b[0;34m)\u001b[0m\u001b[0;34m.\u001b[0m\u001b[0mtext\u001b[0m\u001b[0;34m)\u001b[0m\u001b[0;34m\u001b[0m\u001b[0;34m\u001b[0m\u001b[0m\n\u001b[0;32m----> 5\u001b[0;31m     \u001b[0mresumen\u001b[0m\u001b[0;34m[\u001b[0m\u001b[0;34m'nuevo'\u001b[0m\u001b[0;34m]\u001b[0m\u001b[0;34m[\u001b[0m\u001b[0mi\u001b[0m\u001b[0;34m]\u001b[0m\u001b[0;34m=\u001b[0m\u001b[0mjson\u001b[0m\u001b[0;34m.\u001b[0m\u001b[0mloads\u001b[0m\u001b[0;34m(\u001b[0m\u001b[0mget_price\u001b[0m\u001b[0;34m(\u001b[0m\u001b[0murl\u001b[0m\u001b[0;34m)\u001b[0m\u001b[0;34m.\u001b[0m\u001b[0mtext\u001b[0m\u001b[0;34m)\u001b[0m\u001b[0;34m.\u001b[0m\u001b[0mget\u001b[0m\u001b[0;34m(\u001b[0m\u001b[0mcrypto\u001b[0m\u001b[0;34m[\u001b[0m\u001b[0mi\u001b[0m\u001b[0;34m]\u001b[0m\u001b[0;34m)\u001b[0m\u001b[0;34m[\u001b[0m\u001b[0;34m'usd'\u001b[0m\u001b[0;34m]\u001b[0m\u001b[0;34m\u001b[0m\u001b[0;34m\u001b[0m\u001b[0m\n\u001b[0m\u001b[1;32m      6\u001b[0m     \u001b[0mresumen\u001b[0m\u001b[0;34m[\u001b[0m\u001b[0;34m'Precio'\u001b[0m\u001b[0;34m]\u001b[0m\u001b[0;34m[\u001b[0m\u001b[0mi\u001b[0m\u001b[0;34m]\u001b[0m\u001b[0;34m=\u001b[0m\u001b[0mresumen\u001b[0m\u001b[0;34m[\u001b[0m\u001b[0;34m'nuevo'\u001b[0m\u001b[0;34m]\u001b[0m\u001b[0;34m[\u001b[0m\u001b[0mi\u001b[0m\u001b[0;34m]\u001b[0m\u001b[0;34m*\u001b[0m\u001b[0mresumen\u001b[0m\u001b[0;34m[\u001b[0m\u001b[0;34m'Total'\u001b[0m\u001b[0;34m]\u001b[0m\u001b[0;34m[\u001b[0m\u001b[0mi\u001b[0m\u001b[0;34m]\u001b[0m\u001b[0;34m*\u001b[0m\u001b[0;36m19.84\u001b[0m\u001b[0;34m\u001b[0m\u001b[0;34m\u001b[0m\u001b[0m\n",
            "\u001b[0;31mTypeError\u001b[0m: 'NoneType' object is not subscriptable"
          ]
        }
      ]
    },
    {
      "cell_type": "code",
      "source": [
        "print(np.sum(resumen['Precio']))"
      ],
      "metadata": {
        "id": "wx8ddqKabx0C",
        "outputId": "897cb5df-1cd7-46de-bb7a-2cdbc73bea66",
        "colab": {
          "base_uri": "https://localhost:8080/"
        }
      },
      "execution_count": 47,
      "outputs": [
        {
          "output_type": "stream",
          "name": "stdout",
          "text": [
            "9460.086749909939\n"
          ]
        }
      ]
    },
    {
      "cell_type": "code",
      "source": [
        "print(resumen)"
      ],
      "metadata": {
        "colab": {
          "base_uri": "https://localhost:8080/"
        },
        "id": "EW6kdCe68QVn",
        "outputId": "956a0a80-0780-4572-9c72-cc90ceb36878"
      },
      "execution_count": 46,
      "outputs": [
        {
          "output_type": "stream",
          "name": "stdout",
          "text": [
            "          Crypto     Bitso     Kraken     Binance   Algo    Yoroi       Total  \\\n",
            "0        bitcoin  0.000800    0.00535    0.001306    NaN      NaN    0.007456   \n",
            "1       ethereum  0.008173    0.09780         NaN    NaN      NaN    0.105973   \n",
            "2      chainlink       NaN        NaN    3.449489    NaN      NaN    3.449489   \n",
            "3         chiliz       NaN  579.00000  100.205570    NaN      NaN  679.205570   \n",
            "4   decentraland       NaN        NaN    0.077650    NaN      NaN    0.077650   \n",
            "5         tether       NaN        NaN         NaN    NaN      NaN    0.000000   \n",
            "6         ripple       NaN        NaN         NaN    NaN      NaN    0.000000   \n",
            "7       algorand       NaN        NaN         NaN  393.0      NaN  393.000000   \n",
            "8        cardano       NaN        NaN         NaN    NaN  25.2025   25.202500   \n",
            "9    The-sandbox  0.725260        NaN         NaN    NaN      NaN    0.725260   \n",
            "10      polkadot       NaN    7.97000         NaN    NaN      NaN    7.970000   \n",
            "\n",
            "         Precio       Fecha  -MXN   MXN         nuevo  \n",
            "0   2836.936523  13-11-2021  1000  1000  19178.150000  \n",
            "1   2222.312566  23-11-2021   500  1500   1056.980000  \n",
            "2    418.839668  05-12-2021   100  1600      6.120000  \n",
            "3   1334.014510  09-12-2021   100  1700      0.098996  \n",
            "4      1.292139  10-12-2021   300  2000      0.838738  \n",
            "5      0.000000  17-12-2021   300  2300      1.000000  \n",
            "6      0.000000  29-12-2021   700  3000      0.318876  \n",
            "7   2420.904397  05-01-2022   340  3340      0.310487  \n",
            "8    225.786947  06-01-2022   250  3590      0.451558  \n",
            "9           NaN  24-01-2022   130  3720      0.000000  \n",
            "10          NaN  02-02-2022   440  4160      0.000000  \n"
          ]
        }
      ]
    }
  ]
}