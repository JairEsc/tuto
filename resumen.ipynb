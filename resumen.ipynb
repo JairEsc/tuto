{
  "nbformat": 4,
  "nbformat_minor": 0,
  "metadata": {
    "colab": {
      "name": "Untitled99.ipynb",
      "provenance": [],
      "authorship_tag": "ABX9TyMbeV51yAJOxh4y4WR+3v7m",
      "include_colab_link": true
    },
    "kernelspec": {
      "name": "python3",
      "display_name": "Python 3"
    },
    "language_info": {
      "name": "python"
    }
  },
  "cells": [
    {
      "cell_type": "markdown",
      "metadata": {
        "id": "view-in-github",
        "colab_type": "text"
      },
      "source": [
        "<a href=\"https://colab.research.google.com/github/JairEsc/tuto/blob/master/resumen.ipynb\" target=\"_parent\"><img src=\"https://colab.research.google.com/assets/colab-badge.svg\" alt=\"Open In Colab\"/></a>"
      ]
    },
    {
      "cell_type": "code",
      "execution_count": 1,
      "metadata": {
        "id": "ulTo0Nhc2VsM"
      },
      "outputs": [],
      "source": [
        "# importing libraries\n",
        "from bs4 import BeautifulSoup as BS\n",
        "import requests\n",
        "# method to get the price of bit coin\n",
        "def get_price(url):\n",
        "    # getting the request from url \n",
        "    data = requests.get(url)\n",
        "    # converting the text \n",
        "  \n",
        "    # finding metha info for the current price\n",
        "      \n",
        "    # returning the price\n",
        "    return data\n",
        "   \n",
        "# url of the bit coin price\n"
      ]
    },
    {
      "cell_type": "code",
      "source": [
        "import numpy as np\n",
        "import pandas\n",
        "import matplotlib.pyplot as plt"
      ],
      "metadata": {
        "id": "QFqXqsH75utd"
      },
      "execution_count": 2,
      "outputs": []
    },
    {
      "cell_type": "code",
      "source": [
        "resumen=pandas.read_excel(\"Resumen.xlsx\")"
      ],
      "metadata": {
        "id": "8PSfzGPu52Ww"
      },
      "execution_count": 5,
      "outputs": []
    },
    {
      "cell_type": "code",
      "source": [
        "crypto=resumen['Crypto']\n",
        "total=resumen['Total']\n",
        "resumen['nuevo']=np.zeros(len(crypto))"
      ],
      "metadata": {
        "id": "tPbG-KzN52NQ"
      },
      "execution_count": 6,
      "outputs": []
    },
    {
      "cell_type": "code",
      "source": [
        "import json\n",
        "for i in range(10):\n",
        "    url='https://api.coingecko.com/api/v3/simple/price?ids='+crypto[i]+'&vs_currencies=usd'\n",
        "    print(get_price(url).text)\n",
        "    resumen['nuevo'][i]=json.loads(get_price(url).text).get(crypto[i])['usd']\n",
        "    resumen['Precio'][i]=resumen['nuevo'][i]*resumen['Total'][i]*19.84"
      ],
      "metadata": {
        "colab": {
          "base_uri": "https://localhost:8080/",
          "height": 564
        },
        "id": "lPj0oqbr6o16",
        "outputId": "4ca75857-0ce4-4e60-aeae-f1b7b8e4fb17"
      },
      "execution_count": 11,
      "outputs": [
        {
          "output_type": "stream",
          "name": "stdout",
          "text": [
            "{\"bitcoin\":{\"usd\":45920}}\n",
            "{\"ethereum\":{\"usd\":3488.4}}\n"
          ]
        },
        {
          "output_type": "stream",
          "name": "stderr",
          "text": [
            "/usr/local/lib/python3.7/dist-packages/ipykernel_launcher.py:5: SettingWithCopyWarning: \n",
            "A value is trying to be set on a copy of a slice from a DataFrame\n",
            "\n",
            "See the caveats in the documentation: https://pandas.pydata.org/pandas-docs/stable/user_guide/indexing.html#returning-a-view-versus-a-copy\n",
            "  \"\"\"\n",
            "/usr/local/lib/python3.7/dist-packages/ipykernel_launcher.py:6: SettingWithCopyWarning: \n",
            "A value is trying to be set on a copy of a slice from a DataFrame\n",
            "\n",
            "See the caveats in the documentation: https://pandas.pydata.org/pandas-docs/stable/user_guide/indexing.html#returning-a-view-versus-a-copy\n",
            "  \n"
          ]
        },
        {
          "output_type": "stream",
          "name": "stdout",
          "text": [
            "{\"chainlink\":{\"usd\":17.66}}\n",
            "{\"chiliz\":{\"usd\":0.279173}}\n",
            "{\"decentraland\":{\"usd\":2.69}}\n",
            "{\"tether\":{\"usd\":1.0}}\n",
            "{\"ripple\":{\"usd\":0.832877}}\n",
            "{\"algorand\":{\"usd\":0.91266}}\n",
            "{\"cardano\":{\"usd\":1.18}}\n",
            "{\"the-sandbox\":{\"usd\":3.49}}\n"
          ]
        },
        {
          "output_type": "error",
          "ename": "TypeError",
          "evalue": "ignored",
          "traceback": [
            "\u001b[0;31m---------------------------------------------------------------------------\u001b[0m",
            "\u001b[0;31mTypeError\u001b[0m                                 Traceback (most recent call last)",
            "\u001b[0;32m<ipython-input-11-abf261dd6fbf>\u001b[0m in \u001b[0;36m<module>\u001b[0;34m()\u001b[0m\n\u001b[1;32m      3\u001b[0m     \u001b[0murl\u001b[0m\u001b[0;34m=\u001b[0m\u001b[0;34m'https://api.coingecko.com/api/v3/simple/price?ids='\u001b[0m\u001b[0;34m+\u001b[0m\u001b[0mcrypto\u001b[0m\u001b[0;34m[\u001b[0m\u001b[0mi\u001b[0m\u001b[0;34m]\u001b[0m\u001b[0;34m+\u001b[0m\u001b[0;34m'&vs_currencies=usd'\u001b[0m\u001b[0;34m\u001b[0m\u001b[0;34m\u001b[0m\u001b[0m\n\u001b[1;32m      4\u001b[0m     \u001b[0mprint\u001b[0m\u001b[0;34m(\u001b[0m\u001b[0mget_price\u001b[0m\u001b[0;34m(\u001b[0m\u001b[0murl\u001b[0m\u001b[0;34m)\u001b[0m\u001b[0;34m.\u001b[0m\u001b[0mtext\u001b[0m\u001b[0;34m)\u001b[0m\u001b[0;34m\u001b[0m\u001b[0;34m\u001b[0m\u001b[0m\n\u001b[0;32m----> 5\u001b[0;31m     \u001b[0mresumen\u001b[0m\u001b[0;34m[\u001b[0m\u001b[0;34m'nuevo'\u001b[0m\u001b[0;34m]\u001b[0m\u001b[0;34m[\u001b[0m\u001b[0mi\u001b[0m\u001b[0;34m]\u001b[0m\u001b[0;34m=\u001b[0m\u001b[0mjson\u001b[0m\u001b[0;34m.\u001b[0m\u001b[0mloads\u001b[0m\u001b[0;34m(\u001b[0m\u001b[0mget_price\u001b[0m\u001b[0;34m(\u001b[0m\u001b[0murl\u001b[0m\u001b[0;34m)\u001b[0m\u001b[0;34m.\u001b[0m\u001b[0mtext\u001b[0m\u001b[0;34m)\u001b[0m\u001b[0;34m.\u001b[0m\u001b[0mget\u001b[0m\u001b[0;34m(\u001b[0m\u001b[0mcrypto\u001b[0m\u001b[0;34m[\u001b[0m\u001b[0mi\u001b[0m\u001b[0;34m]\u001b[0m\u001b[0;34m)\u001b[0m\u001b[0;34m[\u001b[0m\u001b[0;34m'usd'\u001b[0m\u001b[0;34m]\u001b[0m\u001b[0;34m\u001b[0m\u001b[0;34m\u001b[0m\u001b[0m\n\u001b[0m\u001b[1;32m      6\u001b[0m     \u001b[0mresumen\u001b[0m\u001b[0;34m[\u001b[0m\u001b[0;34m'Precio'\u001b[0m\u001b[0;34m]\u001b[0m\u001b[0;34m[\u001b[0m\u001b[0mi\u001b[0m\u001b[0;34m]\u001b[0m\u001b[0;34m=\u001b[0m\u001b[0mresumen\u001b[0m\u001b[0;34m[\u001b[0m\u001b[0;34m'nuevo'\u001b[0m\u001b[0;34m]\u001b[0m\u001b[0;34m[\u001b[0m\u001b[0mi\u001b[0m\u001b[0;34m]\u001b[0m\u001b[0;34m*\u001b[0m\u001b[0mresumen\u001b[0m\u001b[0;34m[\u001b[0m\u001b[0;34m'Total'\u001b[0m\u001b[0;34m]\u001b[0m\u001b[0;34m[\u001b[0m\u001b[0mi\u001b[0m\u001b[0;34m]\u001b[0m\u001b[0;34m*\u001b[0m\u001b[0;36m19.84\u001b[0m\u001b[0;34m\u001b[0m\u001b[0;34m\u001b[0m\u001b[0m\n",
            "\u001b[0;31mTypeError\u001b[0m: 'NoneType' object is not subscriptable"
          ]
        }
      ]
    },
    {
      "cell_type": "code",
      "source": [
        "print(np.sum(resumen['Precio']))"
      ],
      "metadata": {
        "id": "wx8ddqKabx0C",
        "outputId": "9ca87c7a-013a-4871-c03c-69a98c5a9626",
        "colab": {
          "base_uri": "https://localhost:8080/"
        }
      },
      "execution_count": 15,
      "outputs": [
        {
          "output_type": "stream",
          "name": "stdout",
          "text": [
            "8635.29567044212\n"
          ]
        }
      ]
    },
    {
      "cell_type": "code",
      "source": [
        "print(resumen)"
      ],
      "metadata": {
        "colab": {
          "base_uri": "https://localhost:8080/"
        },
        "id": "EW6kdCe68QVn",
        "outputId": "18d4a4e4-4f86-412b-d611-0881f62b220f"
      },
      "execution_count": 12,
      "outputs": [
        {
          "output_type": "stream",
          "name": "stdout",
          "text": [
            "          Crypto     Bitso    Kraken     Binance    Algo    Yoroi       Total  \\\n",
            "0        bitcoin  0.000793   0.00053    0.001306     NaN      NaN    0.002629   \n",
            "1       ethereum  0.008173   0.00482         NaN     NaN      NaN    0.012993   \n",
            "2      chainlink       NaN       NaN    3.449489     NaN      NaN    3.449489   \n",
            "3         chiliz       NaN  30.63247  100.205570     NaN      NaN  130.838040   \n",
            "4   decentraland       NaN       NaN    0.077650     NaN      NaN    0.077650   \n",
            "5         tether       NaN  21.66390         NaN     NaN      NaN   21.663900   \n",
            "6         ripple       NaN  28.75000         NaN     NaN      NaN   28.750000   \n",
            "7       algorand       NaN       NaN         NaN  105.37      NaN  105.370000   \n",
            "8        cardano       NaN       NaN         NaN     NaN  25.2025   25.202500   \n",
            "9    The-sandbox  0.725260       NaN         NaN     NaN      NaN    0.725260   \n",
            "10           NaN       NaN       NaN         NaN     NaN      NaN         NaN   \n",
            "11           NaN       NaN       NaN         NaN     NaN      NaN         NaN   \n",
            "12           NaN       NaN       NaN         NaN     NaN      NaN         NaN   \n",
            "13           NaN       NaN       NaN         NaN     NaN      NaN         NaN   \n",
            "14           NaN       NaN       NaN         NaN     NaN      NaN         NaN   \n",
            "15           NaN       NaN       NaN         NaN     NaN      NaN         NaN   \n",
            "\n",
            "         Precio       Fecha    -MXN   MXN         nuevo  \n",
            "0   2395.039374  13-11-2021  1000.0  1000  45920.000000  \n",
            "1    899.268575  23-11-2021   500.0  1500   3488.400000  \n",
            "2   1208.612506  05-12-2021   100.0  1600     17.660000  \n",
            "3    724.684729  09-12-2021   100.0  1700      0.279173  \n",
            "4      4.144147  10-12-2021   300.0  2000      2.690000  \n",
            "5    429.811776  17-12-2021   300.0  2300      1.000000  \n",
            "6    475.073041  29-12-2021   700.0  3000      0.832877  \n",
            "7   1908.640754  05-01-2022   340.0  3340      0.912989  \n",
            "8    590.020768  06-01-2022   250.0  3590      1.180000  \n",
            "9           NaN  24-01-2022   130.0  3720      0.000000  \n",
            "10          NaN  02-02-2022   440.0  4160      0.000000  \n",
            "11          NaN  12-02-2022   645.0  4805      0.000000  \n",
            "12          NaN  21-02-2022   790.0  5595      0.000000  \n",
            "13          NaN  04-03-2022   620.0  6215      0.000000  \n",
            "14          NaN  07-03-2022   500.0  6715      0.000000  \n",
            "15          NaN  10-03-2022  1000.0  7715      0.000000  \n"
          ]
        }
      ]
    }
  ]
}